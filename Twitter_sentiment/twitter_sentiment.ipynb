{
 "cells": [
  {
   "cell_type": "markdown",
   "metadata": {},
   "source": [
    "# This program will analyze the sentiment of Bitcoin on Twitter\n",
    "\n",
    "Author: Felix Lundblad, 2018-12-12"
   ]
  },
  {
   "cell_type": "markdown",
   "metadata": {},
   "source": [
    "## Setting up the keys and tokens for the Twitter API"
   ]
  },
  {
   "cell_type": "code",
   "execution_count": 12,
   "metadata": {},
   "outputs": [],
   "source": [
    "keys = {}\n",
    "with open('keys.txt') as f:\n",
    "    for line in f:\n",
    "        w = line.split()\n",
    "        keys[w[0]] = w[1]\n",
    "        \n",
    "import tweepy\n",
    "\n",
    "auth = tweepy.OAuthHandler(keys['consumer_key'], keys['consumer_secret'])\n",
    "auth.set_access_token(keys['access_token'], keys['access_token_secret'])\n",
    "\n",
    "api = tweepy.API(auth)"
   ]
  },
  {
   "cell_type": "markdown",
   "metadata": {},
   "source": [
    "## Getting the tweets"
   ]
  },
  {
   "cell_type": "code",
   "execution_count": 13,
   "metadata": {},
   "outputs": [
    {
     "name": "stdout",
     "output_type": "stream",
     "text": [
      "___\n",
      "RT @ICOExaminer: \"Proof of Keys\" - a new strategy advocated by @maxkeiser and @TraceMeyer to counteract rampant #Bitcoin price manipulation…\n",
      "Sentiment(polarity=0.13636363636363635, subjectivity=0.45454545454545453)\n",
      "___\n",
      "RT @crypto: Yep, Bitcoin was a bubble. And it popped. https://t.co/RFl50WlXw1 (via @Bopinion) https://t.co/90HSOIVqme\n",
      "Sentiment(polarity=0.0, subjectivity=0.0)\n",
      "___\n",
      "RT @Thedallioncoins: The Dallion Exchange currencies listing on BINANCE 📌\n",
      "\n",
      "100,000,000 Airdrop for first 1000 people\n",
      "Name : The Dallion Exc…\n",
      "Sentiment(polarity=0.25, subjectivity=0.3333333333333333)\n",
      "___\n",
      "Lol met a BitCoin lady in Outapu today....selling me funny money dreams. I told her...money is in the Diamonds mada… https://t.co/YzbRQfr3Ej\n",
      "Sentiment(polarity=0.525, subjectivity=0.85)\n",
      "___\n",
      "RT @wanchain_org: Wanchain 3.0, bridging Bitcoin to Ethereum and ERC20s, is Live! Our 2018 roadmap is now complete, and we're already at wo…\n",
      "Sentiment(polarity=0.13522727272727272, subjectivity=0.45)\n",
      "___\n",
      "RT @FedericoTenga: What is the average time that it takes for a person interested in altcoins to become a Bitcoin maximalist?\n",
      "Sentiment(polarity=0.05, subjectivity=0.44999999999999996)\n",
      "___\n",
      "im going to have to fake my own death again...these #bitcoin buys ...are....still trying to rape people in the market... this is a tragedy.\n",
      "Sentiment(polarity=0.04999999999999999, subjectivity=1.0)\n",
      "___\n",
      "RT @localtradepro: Bitcoin Core Vulnerability Would Have Allowed Miners to Inflate the BTC Supply https://t.co/Cl9znvOpkA https://t.co/N1ew…\n",
      "Sentiment(polarity=0.0, subjectivity=0.0)\n",
      "___\n",
      "@haydentiff @eToro Don't be surprised if Ripple passes bitcoin cap in Jan of 2019.\n",
      "Sentiment(polarity=0.1, subjectivity=0.9)\n",
      "___\n",
      "How Did Twitter CEOs Square Overtake Coinbase as #1 #bitcoin Buying App? #Blockchain #Crypto #BTC #EOS… https://t.co/5WeylvFsLa\n",
      "Sentiment(polarity=0.0, subjectivity=0.0)\n",
      "___\n",
      "RT @bitcoin_token: 1 MILLION $BTK giveaway!   (2 winners of 500k each). Follow the rules:\n",
      "1 Follow @GetlynxIo and @bitcoin_token \n",
      "2. RT thi…\n",
      "Sentiment(polarity=0.0, subjectivity=0.0)\n",
      "___\n",
      "RT @delete152737: 22. “When Kennedy called for a return of America’s currency to the gold standard, and the dismantling of the Federal Rese…\n",
      "Sentiment(polarity=0.0, subjectivity=0.0)\n",
      "___\n",
      "RT @Khil0ne: 9/9\n",
      "\n",
      "74. @0xProject $ZRX\n",
      "75. @StellarOrg $XLM\n",
      "76. @AttentionToken $BAT\n",
      "77. @decredproject $DCR\n",
      "78. @decentraland $MANA\n",
      "79. @Hu…\n",
      "Sentiment(polarity=0.0, subjectivity=0.0)\n",
      "___\n",
      "Headlines for the world of Cryptocurrencies - December 10, 2018 https://t.co/1BqO0rn0Ys #cryptocurrency #bitcoin… https://t.co/3ZxR7fHliB\n",
      "Sentiment(polarity=0.0, subjectivity=0.0)\n",
      "___\n",
      "RT @BitcoinZer0X: ⚡️SURPRISE⚡️\n",
      "\n",
      "Sinterklaas has come to visit us at Bitcoin Zero to deliver some great news for $BZX holders! #BZX has been…\n",
      "Sentiment(polarity=1.0, subjectivity=0.75)\n"
     ]
    }
   ],
   "source": [
    "public_tweets = api.search('Bitcoin', lang='en', rpp=100)\n",
    "\n",
    "from textblob import TextBlob\n",
    "\n",
    "for tweet in public_tweets:\n",
    "    print('___')\n",
    "    print(tweet.text)\n",
    "    analysis = TextBlob(tweet.text)\n",
    "    print(analysis.sentiment)\n",
    "    "
   ]
  },
  {
   "cell_type": "code",
   "execution_count": null,
   "metadata": {},
   "outputs": [],
   "source": []
  }
 ],
 "metadata": {
  "kernelspec": {
   "display_name": "Python 3",
   "language": "python",
   "name": "python3"
  },
  "language_info": {
   "codemirror_mode": {
    "name": "ipython",
    "version": 3
   },
   "file_extension": ".py",
   "mimetype": "text/x-python",
   "name": "python",
   "nbconvert_exporter": "python",
   "pygments_lexer": "ipython3",
   "version": "3.6.7"
  }
 },
 "nbformat": 4,
 "nbformat_minor": 2
}
